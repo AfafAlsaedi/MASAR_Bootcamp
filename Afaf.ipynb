{
  "nbformat": 4,
  "nbformat_minor": 0,
  "metadata": {
    "colab": {
      "provenance": [],
      "authorship_tag": "ABX9TyOnxbzOLzKyaGR22Pmr3fEE",
      "include_colab_link": true
    },
    "kernelspec": {
      "name": "python3",
      "display_name": "Python 3"
    },
    "language_info": {
      "name": "python"
    }
  },
  "cells": [
    {
      "cell_type": "markdown",
      "metadata": {
        "id": "view-in-github",
        "colab_type": "text"
      },
      "source": [
        "<a href=\"https://colab.research.google.com/github/AfafAlsaedi/MASAR_Bootcamp/blob/main/Afaf.ipynb\" target=\"_parent\"><img src=\"https://colab.research.google.com/assets/colab-badge.svg\" alt=\"Open In Colab\"/></a>"
      ]
    },
    {
      "cell_type": "code",
      "execution_count": 12,
      "metadata": {
        "colab": {
          "base_uri": "https://localhost:8080/"
        },
        "id": "cTawz8U6wB7z",
        "outputId": "b04fab80-7ac6-451d-d5b8-d7540e6dc0a2"
      },
      "outputs": [
        {
          "output_type": "stream",
          "name": "stdout",
          "text": [
            "Welcome everyone my name is Afaf my age is 32 I will become the best data scientist\n"
          ]
        }
      ],
      "source": [
        "# HW 1\n",
        "\n",
        "name = \"Afaf\"\n",
        "\n",
        "age =str (32)\n",
        "\n",
        "print ('Welcome everyone my name is '+ name +  ' my age is ' + age + ' I will become the best data scientist')"
      ]
    }
  ]
}